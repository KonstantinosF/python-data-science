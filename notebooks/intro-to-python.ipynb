{
 "cells": [
  {
   "cell_type": "code",
   "execution_count": 1,
   "metadata": {},
   "outputs": [
    {
     "name": "stdout",
     "output_type": "stream",
     "text": [
      "hello data world!\n"
     ]
    },
    {
     "data": {
      "text/plain": [
       "3.5"
      ]
     },
     "execution_count": 1,
     "metadata": {},
     "output_type": "execute_result"
    }
   ],
   "source": [
    "# let's start\n",
    "print(\"hello data world!\")\n",
    "\n",
    "# we don't (usually) specify types to variables:\n",
    "n = 2\n",
    "x = 2.5\n",
    "y = 1.0\n",
    "x + y"
   ]
  },
  {
   "cell_type": "code",
   "execution_count": 2,
   "metadata": {},
   "outputs": [
    {
     "data": {
      "text/plain": [
       "'this is  a name'"
      ]
     },
     "execution_count": 2,
     "metadata": {},
     "output_type": "execute_result"
    }
   ],
   "source": [
    "# use double or single quotes for strings\n",
    "name1 = \"this is \"\n",
    "name2 = \" a name\"\n",
    "# string concatenation is simple\n",
    "name1 + name2"
   ]
  },
  {
   "cell_type": "code",
   "execution_count": 6,
   "metadata": {},
   "outputs": [
    {
     "name": "stdout",
     "output_type": "stream",
     "text": [
      "hi there this is a test\n",
      "2.5\n",
      "and this is how you can print numbers with strings 2.5\n",
      "and this test is how to use f strings 2.5\n"
     ]
    }
   ],
   "source": [
    "# printing\n",
    "x = 2.5\n",
    "name = \"test\"\n",
    "print(\"hi there this is a \" + name)\n",
    "print(x)\n",
    "print(\"and this is how you can print numbers with strings \" + str(x))\n",
    "print(f\"and this {name} is how to use f-strings {x}\")"
   ]
  },
  {
   "cell_type": "code",
   "execution_count": null,
   "metadata": {},
   "outputs": [],
   "source": []
  }
 ],
 "metadata": {
  "kernelspec": {
   "display_name": "Python 3",
   "language": "python",
   "name": "python3"
  },
  "language_info": {
   "codemirror_mode": {
    "name": "ipython",
    "version": 3
   },
   "file_extension": ".py",
   "mimetype": "text/x-python",
   "name": "python",
   "nbconvert_exporter": "python",
   "pygments_lexer": "ipython3",
   "version": "3.7.3"
  }
 },
 "nbformat": 4,
 "nbformat_minor": 4
}
