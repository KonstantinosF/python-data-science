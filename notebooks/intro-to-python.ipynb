{
 "cells": [
  {
   "cell_type": "markdown",
   "metadata": {},
   "source": [
    "# Python basics"
   ]
  },
  {
   "cell_type": "markdown",
   "metadata": {},
   "source": [
    "## Printing, variables, strings "
   ]
  },
  {
   "cell_type": "code",
   "execution_count": 7,
   "metadata": {},
   "outputs": [
    {
     "name": "stdout",
     "output_type": "stream",
     "text": [
      "hello data world!\n",
      "5.5\n"
     ]
    }
   ],
   "source": [
    "# let's start\n",
    "print(\"hello data world!\")\n",
    "\n",
    "# we don't (usually) specify types to variables:\n",
    "n = 2\n",
    "x = 2.5\n",
    "y = 1.0\n",
    "print(x + y + n)"
   ]
  },
  {
   "cell_type": "code",
   "execution_count": 6,
   "metadata": {},
   "outputs": [
    {
     "name": "stdout",
     "output_type": "stream",
     "text": [
      "this is  a name\n"
     ]
    }
   ],
   "source": [
    "# use double or single quotes for strings\n",
    "name1 = \"this is \"\n",
    "name2 = \" a name\"\n",
    "# string concatenation is simple\n",
    "print(name1 + name2)"
   ]
  },
  {
   "cell_type": "code",
   "execution_count": 6,
   "metadata": {},
   "outputs": [
    {
     "name": "stdout",
     "output_type": "stream",
     "text": [
      "hi there this is a test\n",
      "2.5\n",
      "and this is how you can print numbers with strings 2.5\n",
      "and this test is how to use f strings 2.5\n"
     ]
    }
   ],
   "source": [
    "# printing\n",
    "x = 2.5\n",
    "name = \"test\"\n",
    "print(\"hi there this is a \" + name)\n",
    "print(x)\n",
    "print(\"and this is how you can print numbers with strings \" + str(x))\n",
    "print(f\"and this {name} is how to use f-strings {x}\")"
   ]
  },
  {
   "cell_type": "markdown",
   "metadata": {},
   "source": [
    "## Lists"
   ]
  },
  {
   "cell_type": "code",
   "execution_count": 17,
   "metadata": {},
   "outputs": [
    {
     "name": "stdout",
     "output_type": "stream",
     "text": [
      "[1, -1, 10]\n",
      "list has 3 elements\n",
      "[1, ['name', 2], -0.51]\n"
     ]
    }
   ],
   "source": [
    "# lists: structures that form collection of variables\n",
    "numbers = [1, -1, 10]\n",
    "print(numbers)\n",
    "print(f'list has {len(numbers)} elements') # len() is a function that takes list objects as argument and returns number of elements\n",
    "\n",
    "# can contain different types (or even lists!)\n",
    "complex_list = [1, [\"name\", 2], -0.51]\n",
    "print(complex_list)"
   ]
  },
  {
   "cell_type": "code",
   "execution_count": 18,
   "metadata": {},
   "outputs": [
    {
     "name": "stdout",
     "output_type": "stream",
     "text": [
      "this is the 2nd element of the list: 4\n",
      "t3st\n"
     ]
    }
   ],
   "source": [
    "# simple list indexing\n",
    "numbers = [1, 4, 10]\n",
    "print(f\"this is the 2nd element of the list: {numbers[1]}\")\n",
    "\n",
    "s = \"test\"\n",
    "# strings are also lists but they cannot be modified (immutable)\n",
    "# s[1] = \"3\" # this returns an error\n",
    "# instead you can do this: \n",
    "print(s.replace(\"e\", \"3\"))\n",
    "# replace is a METHOD of string OBJECTS"
   ]
  },
  {
   "cell_type": "code",
   "execution_count": 19,
   "metadata": {},
   "outputs": [
    {
     "name": "stdout",
     "output_type": "stream",
     "text": [
      "-10\n",
      "[2, 3]\n",
      "[1, 2, 3, 10]\n",
      "[1, 2, 3, 10, 15]\n",
      "[1, 3, 15, -10]\n",
      "[-10, 2, 15, 10, 3, 2]\n"
     ]
    }
   ],
   "source": [
    "# negative list indices\n",
    "numbers = [1, 2, 3, 10, 15, 2, -10]\n",
    "print(numbers[-1])\n",
    "\n",
    "# ... and list slicing\n",
    "print(numbers[1:3])\n",
    "print(numbers[:4])\n",
    "print(numbers[:-2])\n",
    "print(numbers[::2])\n",
    "print(numbers[-1:0:-1])"
   ]
  },
  {
   "cell_type": "code",
   "execution_count": 26,
   "metadata": {},
   "outputs": [
    {
     "name": "stdout",
     "output_type": "stream",
     "text": [
      "[1, 2, -10, -10, 15, 2, -10]\n",
      "[1, 2, -10, -10, 15, 2, -10, -20, 2]\n",
      "[1, 2, -10, -10, 15, 2, -10, -20, 2, -100]\n"
     ]
    }
   ],
   "source": [
    "# list manipulation\n",
    "# element replacement\n",
    "numbers = [1, 2, 3, 10, 15, 2, -10]\n",
    "numbers[2:4] = [-10, -10]\n",
    "print(numbers)\n",
    "# list concatenation\n",
    "numbers += [-20, 2]\n",
    "print(numbers)\n",
    "# can also use the append method for appending a single element\n",
    "# (DOES NOT RETURN list but appends on existing object):\n",
    "numbers.append(-100)\n",
    "print(numbers)"
   ]
  },
  {
   "cell_type": "code",
   "execution_count": 21,
   "metadata": {},
   "outputs": [
    {
     "name": "stdout",
     "output_type": "stream",
     "text": [
      "[1, 0, 3]\n",
      "[1, 2, 3]\n"
     ]
    }
   ],
   "source": [
    "# copy lists vs by reference\n",
    "x = [1, 2, 3]\n",
    "y = x\n",
    "x[1] = 0\n",
    "print(y)\n",
    "# y has also changed\n",
    "\n",
    "x = [1, 2, 3]\n",
    "y = x[:]\n",
    "x[1] = 0\n",
    "print(y) \n",
    "# (y has not changed)"
   ]
  },
  {
   "cell_type": "code",
   "execution_count": null,
   "metadata": {},
   "outputs": [],
   "source": []
  },
  {
   "cell_type": "markdown",
   "metadata": {},
   "source": [
    "## If statements"
   ]
  },
  {
   "cell_type": "code",
   "execution_count": 10,
   "metadata": {},
   "outputs": [
    {
     "name": "stdout",
     "output_type": "stream",
     "text": [
      "list has 4 elements\n",
      "-4 is the element no 2\n",
      "-2 is not found in list\n"
     ]
    }
   ],
   "source": [
    "# if statements\n",
    "my_list = [1, 2, -4, 10]\n",
    "number_to_find_1 = -4\n",
    "if number_to_find_1 in my_list:\n",
    "    # call METHOD \"index\" of the list OBJECT:\n",
    "    print(f'{number_to_find_1} is the element no {list_1.index(number_to_find_1)}') \n",
    "else:\n",
    "    print(f'{number_to_find_1} is not found in list')\n",
    "    \n",
    "number_to_find_2 = -2\n",
    "if number_to_find_2 in my_list:\n",
    "    # call METHOD \"index\" of the list OBJECT:\n",
    "    print(f'{number_to_find_2} is the element no {list_1.index(number_to_find_2)}') \n",
    "else:\n",
    "    print(f'{number_to_find_2} is not found in list')\n",
    "        "
   ]
  },
  {
   "cell_type": "code",
   "execution_count": 24,
   "metadata": {},
   "outputs": [
    {
     "name": "stdout",
     "output_type": "stream",
     "text": [
      "hot\n"
     ]
    }
   ],
   "source": [
    "# more if\n",
    "temperature = 29\n",
    "if temperature < 10: \n",
    "    print(\"cold\")\n",
    "elif temperature < 25:\n",
    "    print(\"normal\")\n",
    "else:\n",
    "    print(\"hot\")"
   ]
  },
  {
   "cell_type": "code",
   "execution_count": null,
   "metadata": {},
   "outputs": [],
   "source": [
    "# operators\n",
    "a = 10\n",
    "print(a == 3)\n",
    "print(a == 10)\n",
    "print(a < 20)\n",
    "\n",
    "# not operator:\n",
    "print(not False)\n",
    "print(())"
   ]
  },
  {
   "cell_type": "markdown",
   "metadata": {},
   "source": [
    "## For loops"
   ]
  },
  {
   "cell_type": "code",
   "execution_count": 1,
   "metadata": {},
   "outputs": [
    {
     "name": "stdout",
     "output_type": "stream",
     "text": [
      "1\n",
      "2\n",
      "3\n",
      "4\n",
      "5\n"
     ]
    }
   ],
   "source": [
    "for i in range(5):\n",
    "    print(i+1)"
   ]
  },
  {
   "cell_type": "code",
   "execution_count": 4,
   "metadata": {},
   "outputs": [
    {
     "name": "stdout",
     "output_type": "stream",
     "text": [
      "0\n",
      "5\n",
      "10\n",
      "15\n"
     ]
    }
   ],
   "source": [
    "for i in range(0, 20, 5):\n",
    "    print(i)"
   ]
  },
  {
   "cell_type": "code",
   "execution_count": 5,
   "metadata": {},
   "outputs": [
    {
     "name": "stdout",
     "output_type": "stream",
     "text": [
      "George\n",
      "Alan\n",
      "Mary\n"
     ]
    }
   ],
   "source": [
    "names = [\"George\", \"Alan\", \"Mary\"]\n",
    "for n in names:\n",
    "    print(n)"
   ]
  },
  {
   "cell_type": "code",
   "execution_count": 8,
   "metadata": {},
   "outputs": [
    {
     "name": "stdout",
     "output_type": "stream",
     "text": [
      "name 0: George\n",
      "name 1: Alan\n",
      "name 2: Mary\n"
     ]
    }
   ],
   "source": [
    "# with indices:\n",
    "names = [\"George\", \"Alan\", \"Mary\"]\n",
    "for i, n in enumerate(names):\n",
    "    print(f\"name {i}: {n}\")"
   ]
  },
  {
   "cell_type": "code",
   "execution_count": 9,
   "metadata": {},
   "outputs": [
    {
     "name": "stdout",
     "output_type": "stream",
     "text": [
      "[0, 0, 2, 6, 12, 20, 30, 42, 56, 72]\n"
     ]
    }
   ],
   "source": [
    "# list comprehensions\n",
    "my_list = [i**2 - i for i in range(0, 10)]\n",
    "print(my_list)"
   ]
  },
  {
   "cell_type": "code",
   "execution_count": 25,
   "metadata": {},
   "outputs": [
    {
     "name": "stdout",
     "output_type": "stream",
     "text": [
      "list comprehensions are 18.2 % faster\n"
     ]
    }
   ],
   "source": [
    "# list comprehensions are faster than for loops\n",
    "import time\n",
    "n = 1000000\n",
    "t1 = time.time()\n",
    "my_list = [i**2 - i for i in range(0, n)]\n",
    "t2 = time.time()\n",
    "my_list = []\n",
    "for i in range(0, n):\n",
    "    my_list.append(i**2 - i)\n",
    "t3 = time.time()\n",
    "t_loop = t3 - t2\n",
    "t_com = t2 - t1\n",
    "print(f\"list comprehensions are {100*(t_loop-t_com)/t_loop:.1f} % faster\")"
   ]
  },
  {
   "cell_type": "code",
   "execution_count": null,
   "metadata": {},
   "outputs": [],
   "source": []
  },
  {
   "cell_type": "code",
   "execution_count": null,
   "metadata": {},
   "outputs": [],
   "source": []
  }
 ],
 "metadata": {
  "kernelspec": {
   "display_name": "Python 3",
   "language": "python",
   "name": "python3"
  },
  "language_info": {
   "codemirror_mode": {
    "name": "ipython",
    "version": 3
   },
   "file_extension": ".py",
   "mimetype": "text/x-python",
   "name": "python",
   "nbconvert_exporter": "python",
   "pygments_lexer": "ipython3",
   "version": "3.7.3"
  }
 },
 "nbformat": 4,
 "nbformat_minor": 4
}
