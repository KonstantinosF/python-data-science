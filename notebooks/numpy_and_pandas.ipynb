{
 "cells": [
  {
   "cell_type": "markdown",
   "metadata": {},
   "source": [
    "# NumPy and pandas\n",
    "## General\n",
    "### NumPy\n",
    "NumPy is used for performing numerical computations on arrays and matrices, such as mean, median, percentiles and linear algebra computations. Simply install numpy with pip `pip3 install numpy`. \n",
    "\n",
    "### Pandas\n",
    "Pandas is used for handling tabular datasets that usually combine different types of data columns (integer, float, nominals, etc). Pandas requires NumPy. To install: `pip3 install pandas`."
   ]
  },
  {
   "cell_type": "markdown",
   "metadata": {},
   "source": [
    "## Numpy examples"
   ]
  },
  {
   "cell_type": "markdown",
   "metadata": {},
   "source": [
    "### The basics"
   ]
  },
  {
   "cell_type": "code",
   "execution_count": 4,
   "metadata": {},
   "outputs": [
    {
     "name": "stdout",
     "output_type": "stream",
     "text": [
      "a:\n",
      "[[0. 0. 0. 0.]\n",
      " [0. 0. 0. 0.]]\n",
      "b:\n",
      "[[1. 1. 1. 1.]\n",
      " [1. 1. 1. 1.]]\n",
      "a+b:\n",
      "[[1. 1. 1. 1.]\n",
      " [1. 1. 1. 1.]]\n",
      "a-2b:\n",
      "[[-2. -2. -2. -2.]\n",
      " [-2. -2. -2. -2.]]\n",
      "shape:\n",
      "(2, 4)\n"
     ]
    }
   ],
   "source": [
    "# zeros and ones. array shape\n",
    "import numpy as np\n",
    "a = np.zeros((2, 4))\n",
    "b = np.ones((2, 4))\n",
    "print(f\"a:\\n{a}\")\n",
    "print(f\"b:\\n{b}\")\n",
    "print(f\"a+b:\\n{a+b}\")\n",
    "print(f\"a-2b:\\n{a-2*b}\")\n",
    "print(f\"shape:\\n{a.shape}\")"
   ]
  },
  {
   "cell_type": "code",
   "execution_count": 1,
   "metadata": {},
   "outputs": [
    {
     "name": "stdout",
     "output_type": "stream",
     "text": [
      "a+b[ 3. 12.  4.]\n",
      "int64\n",
      "float64\n",
      "float64\n"
     ]
    }
   ],
   "source": [
    "# creating arrays from lists and array types\n",
    "import numpy as np\n",
    "a = np.array([1, 2, 5])\n",
    "b = np.array([2.0, 10, -1])\n",
    "print(f\"a+b{a + b}\")\n",
    "print(a.dtype)\n",
    "print(b.dtype)\n",
    "print((a+b).dtype)"
   ]
  },
  {
   "cell_type": "code",
   "execution_count": 6,
   "metadata": {},
   "outputs": [
    {
     "name": "stdout",
     "output_type": "stream",
     "text": [
      "a:[ 0  5 10 15]\n",
      "a-10:[-10  -5   0   5]\n",
      "a^2:[  0  25 100 225]\n",
      "a-b:[10 10 10 10]\n",
      "cos(b * pi / 20):[6.12323400e-17 7.07106781e-01 1.00000000e+00 7.07106781e-01]\n"
     ]
    }
   ],
   "source": [
    "# numpy.arange. basic operations\n",
    "import numpy as np\n",
    "a = np.arange(0, 20, 5)\n",
    "b = np.arange(0, 20, 5) - 10\n",
    "print(f\"a:{a}\")\n",
    "print(f\"a-10:{a-10}\")\n",
    "print(f\"a^2:{a ** 2}\")\n",
    "print(f\"a-b:{a-b}\")\n",
    "print(f\"cos(b * pi / 20):{np.cos(b * np.pi / 20.0)}\")"
   ]
  },
  {
   "cell_type": "code",
   "execution_count": 8,
   "metadata": {},
   "outputs": [
    {
     "name": "stdout",
     "output_type": "stream",
     "text": [
      "A .* B =\n",
      " [[0 2]\n",
      " [1 1]]\n",
      "A * B =\n",
      " [[2 2]\n",
      " [0 2]]\n"
     ]
    }
   ],
   "source": [
    "# element-wise product matrix product\n",
    "import numpy as np\n",
    "A = np.array([[0, 2], [1, 1]])\n",
    "B = np.array([[-1, 1], [1, 1]])\n",
    "print(f\"A .* B =\\n {A * B}\")     # element-wise\n",
    "print(f\"A * B =\\n {A.dot(B)}\")  # matrix product"
   ]
  },
  {
   "cell_type": "code",
   "execution_count": 20,
   "metadata": {},
   "outputs": [
    {
     "name": "stdout",
     "output_type": "stream",
     "text": [
      "[0 1 2 3 4 5 6 7 8 9]\n",
      "[[0 1 2 3 4]\n",
      " [5 6 7 8 9]]\n"
     ]
    }
   ],
   "source": [
    "# reshaping arrays\n",
    "import numpy as np\n",
    "x = np.arange(10)\n",
    "print(x)\n",
    "print(x.reshape(2, 5))"
   ]
  },
  {
   "cell_type": "markdown",
   "metadata": {},
   "source": [
    "### Numpy statistics\n",
    "The following example reads the temperatures from NYC in the last 150 years on the same day (9th April). The csv file contains 3 rows, namely date, max day temp and min day temp. Date is saved in a list and the two temperatures in numpy arrays. The following code extracts some basic statistics including, mean vale, median value, max, min and  10 and 90 percentiles. "
   ]
  },
  {
   "cell_type": "code",
   "execution_count": 2,
   "metadata": {},
   "outputs": [
    {
     "name": "stdout",
     "output_type": "stream",
     "text": [
      "Average max-day temperature is 55.3\n",
      "Median max-day temperature is 54.0\n",
      "Average max-day temperature is 39.6\n",
      "Median max-day temperature is 39.0\n",
      "The maximum max-day temp was 86.0 in 1991\n",
      "The maximum min-day temp was 68.0 in 1991\n",
      "The minimum max-day temp was 39.0 in 1885\n",
      "The minimum max-day temp was 25.0 in 1977\n",
      "[1874, 1884, 1885, 1900, 1907, 1911, 1917, 1935, 1974, 1979, 1982, 1996, 1997, 2003]\n",
      "[1871, 1879, 1921, 1929, 1934, 1945, 1959, 1968, 1970, 1981, 1991, 2001, 2002, 2013]\n",
      "[1876, 1880, 1885, 1888, 1891, 1900, 1917, 1920, 1950, 1958, 1972, 1977, 1997, 2000]\n",
      "[1871, 1895, 1915, 1921, 1922, 1929, 1959, 1968, 1970, 1980, 1981, 1991, 2002, 2012, 2013]\n"
     ]
    }
   ],
   "source": [
    "import csv\n",
    "import numpy as np\n",
    "\n",
    "years = []\n",
    "max_t, min_t = np.array([]), np.array([])\n",
    "# read the csv file of New York min and max temperatures of 9th April for the last 150 years:\n",
    "with open('data_ny_temperatures.csv', newline='') as csvfile:\n",
    "    reader = csv.reader(csvfile, delimiter=',', quotechar='|')\n",
    "    for ir, row in enumerate(reader):\n",
    "        if ir>0:\n",
    "            max_t = np.append(max_t, float(row[1]))\n",
    "            min_t = np.append(min_t, float(row[2]))\n",
    "            years.append(int(row[0].split('-')[0]))\n",
    "\n",
    "print(f\"Average max-day temperature is {max_t.mean():.1f}\")\n",
    "print(f\"Median max-day temperature is {np.median(max_t):.1f}\")\n",
    "print(f\"Average max-day temperature is {min_t.mean():.1f}\")\n",
    "print(f\"Median max-day temperature is {np.median(min_t):.1f}\")\n",
    "\n",
    "print(f\"The maximum max-day temp was {np.max(max_t):.1f} in {years[np.argmax(max_t)]}\")\n",
    "print(f\"The maximum min-day temp was {np.max(min_t):.1f} in {years[np.argmax(min_t)]}\")\n",
    "print(f\"The minimum max-day temp was {np.min(max_t):.1f} in {years[np.argmin(max_t)]}\")\n",
    "print(f\"The minimum max-day temp was {np.min(min_t):.1f} in {years[np.argmin(min_t)]}\")\n",
    "\n",
    "max_t_p_10 = np.percentile(max_t, 10)\n",
    "max_t_p_90 = np.percentile(max_t, 90)\n",
    "years_max_10 = [y for i, y in enumerate(years) if max_t[i] < max_t_p_10]\n",
    "print(years_max_10)\n",
    "years_max_90 = [y for i, y in enumerate(years) if max_t[i] > max_t_p_90]\n",
    "print(years_max_90)\n",
    "min_t_p_10 = np.percentile(min_t, 10)\n",
    "min_t_p_90 = np.percentile(min_t, 90)\n",
    "years_min_10 = [y for i, y in enumerate(years) if min_t[i] < min_t_p_10]\n",
    "print(years_min_10)\n",
    "years_min_90 = [y for i, y in enumerate(years) if min_t[i] > min_t_p_90]\n",
    "print(years_min_90)"
   ]
  },
  {
   "cell_type": "markdown",
   "metadata": {},
   "source": [
    "A note on speed: if you need to append a large number of elements in a numpy array, it is much faster to append it to a list and then convert the list to numpy array (instead of using the numpy.append() method). And list comprehension is obvioysly even faster. "
   ]
  },
  {
   "cell_type": "code",
   "execution_count": 39,
   "metadata": {},
   "outputs": [
    {
     "name": "stdout",
     "output_type": "stream",
     "text": [
      "numpy.append(): 87.97 msecs\n",
      "list append and numpy array conversion: 1.96 msecs\n",
      "list comprehension and numpy array conversion: 0.22 msecs\n"
     ]
    }
   ],
   "source": [
    "import numpy as np\n",
    "import time\n",
    "\n",
    "t1 = time.time()\n",
    "a = np.array([])\n",
    "for i in range(1, 10000):\n",
    "    a = np.append(a, i)\n",
    "t2 = time.time()\n",
    "print(f\"numpy.append(): {1000 * (t2 - t1):.2f} msecs\")\n",
    "\n",
    "t1 = time.time()\n",
    "a = []\n",
    "for i in range(1, 10000):\n",
    "    a.append(i)\n",
    "a = np.array(a)\n",
    "t2 = time.time()\n",
    "print(f\"list append and numpy array conversion: {1000 * (t2 - t1):.2f} msecs\")\n",
    "\n",
    "t1 = time.time()\n",
    "a = [i for i in range(1, 1000)]\n",
    "a = np.array(a)\n",
    "t2 = time.time()\n",
    "print(f\"list comprehension and numpy array conversion: {1000 * (t2 - t1):.2f} msecs\")"
   ]
  },
  {
   "cell_type": "markdown",
   "metadata": {},
   "source": [
    "Talking about statistics, two of the most important quantities used in random variable statistics (whatever quantity they measure) are mean and standard deviation. We've already seen mean in some examples above. Standard deviation, which measures how close the values of the variable are to their mean value. Belowe, we are showing how to compute mean and std of a sequence and how to standardize the values of the sequence into having a standard deviation of 1 and mean value equal to 0. This is a very important process, used in machine learning and data science before training models and before predicting. An alternative is the max / min normalization, not shown here. "
   ]
  },
  {
   "cell_type": "code",
   "execution_count": 39,
   "metadata": {},
   "outputs": [
    {
     "name": "stdout",
     "output_type": "stream",
     "text": [
      "mean is 10.266 and std is 4.983\n",
      "after standardization mean is 0.000 and std is 1.000\n"
     ]
    }
   ],
   "source": [
    "import numpy as np\n",
    "import numpy.random\n",
    "m, s, n_samples = 10, 5, 1000\n",
    "x = numpy.random.normal(m, s, n_samples)\n",
    "m_est = x.mean()\n",
    "s_est = x.std()\n",
    "\n",
    "print(f\"mean is {m_est:.3f} and std is {s_est:.3f}\")\n",
    "# z = (x - m) / s\n",
    "x_norm = (x - m_est) / s_est\n",
    "print(f\"after standardization mean is {x_norm.mean():.3f} and std is {x_norm.std():.3f}\")"
   ]
  },
  {
   "cell_type": "markdown",
   "metadata": {},
   "source": [
    "### Numpy slicing and row - column operations"
   ]
  },
  {
   "cell_type": "code",
   "execution_count": 8,
   "metadata": {},
   "outputs": [
    {
     "name": "stdout",
     "output_type": "stream",
     "text": [
      "x:\n",
      "[[ 1  2  3]\n",
      " [ 4  5  6]\n",
      " [ 7  8  9]\n",
      " [10 11 12]]\n",
      "\n",
      "x[1:, :-1]:\n",
      "[[ 4  5]\n",
      " [ 7  8]\n",
      " [10 11]]\n"
     ]
    }
   ],
   "source": [
    "import numpy as np\n",
    "x = np.array([[1,2,3], [4,5,6], [7, 8, 9], [10, 11, 12]])\n",
    "print(\"x:\")\n",
    "print(x)\n",
    "print(\"\\nx[1:, :-1]:\")\n",
    "print(x[1:, :-1])"
   ]
  },
  {
   "cell_type": "code",
   "execution_count": 3,
   "metadata": {},
   "outputs": [
    {
     "name": "stdout",
     "output_type": "stream",
     "text": [
      "global mean 6.5\n",
      "global min 1\n",
      "global max 12\n",
      "column-wise mean [5.5 6.5 7.5]\n",
      "row-wise mean [ 2.  5.  8. 11.]\n"
     ]
    }
   ],
   "source": [
    "# global and row-wise or column-wise calculations\n",
    "import numpy as np\n",
    "x = np.array([[1,2,3], [4,5,6], [7, 8, 9], [10, 11, 12]])\n",
    "print(f\"global mean {x.mean()}\")\n",
    "print(f\"global min {x.min()}\")\n",
    "print(f\"global max {x.max()}\")\n",
    "print(f\"column-wise mean {x.mean(axis=0)}\")\n",
    "print(f\"row-wise mean {x.mean(axis=1)}\")"
   ]
  },
  {
   "cell_type": "markdown",
   "metadata": {},
   "source": [
    "### Broadcasting\n",
    "Broadcasting in numpy is. a very powerful mechanism that allows numpy operators to work on arrays of different shapes.\n",
    "\n",
    "We saw previously that element-to-element operations are possible in numpy when arrays have the same dimensions. However, operations on arrays that do not share the same shapes is possible in numpy because of broadcasting. Broadcasting can be performed when the shape of each dimension in the arrays are equal or one has the one of its dimensions equal to 1. Below are some broadcasting examples:"
   ]
  },
  {
   "cell_type": "code",
   "execution_count": 16,
   "metadata": {},
   "outputs": [
    {
     "name": "stdout",
     "output_type": "stream",
     "text": [
      "[[3 4]\n",
      " [5 6]]\n",
      "add a 4x3 with a 3x1 numpy array:\n",
      "[[ 2  4  6]\n",
      " [ 5  7  9]\n",
      " [ 8 10 12]\n",
      " [11 13 15]]\n",
      "add a 4x3 with a 4x1 numpy array:\n",
      "[[ 2  3  4]\n",
      " [ 6  7  8]\n",
      " [10 11 12]\n",
      " [14 15 16]]\n"
     ]
    }
   ],
   "source": [
    "# broacasting examples\n",
    "import numpy as np\n",
    "# example 1:\n",
    "x = np.array([[1, 2], [3, 4]])\n",
    "print(x + 2)  # scalar and 2D array broadcasting\n",
    "\n",
    "# example 2:\n",
    "x = np.array([[1,2,3], [4,5,6], [7, 8, 9], [10, 11, 12]])\n",
    "y = np.array([1, 2, 3])\n",
    "print(f\"add a {x.shape[0]}x{x.shape[1]} with a {y.shape[0]}x{1} numpy array:\")\n",
    "print(x + y)\n",
    "\n",
    "#example 3:\n",
    "y = np.array([1, 2, 3, 4]).reshape(4,1)\n",
    "print(f\"add a {x.shape[0]}x{x.shape[1]} with a {y.shape[0]}x{1} numpy array:\")\n",
    "print(x + y)"
   ]
  },
  {
   "cell_type": "markdown",
   "metadata": {},
   "source": [
    "## Pandas\n",
    "### Pandas data structures\n",
    "Two are the basic types used in pandas: *series* and *dataframes*.\n",
    "Series is a 1D labeled array that holds any data type (integers, strings, floats etc). To define a Series we need its data and its indices. Obviously the index must be of the same length to the data. If index is not defined, then the default value is \\[0, ..., len(data) - 1\\]. \n",
    "\n",
    "#### Series"
   ]
  },
  {
   "cell_type": "code",
   "execution_count": 7,
   "metadata": {},
   "outputs": [
    {
     "name": "stdout",
     "output_type": "stream",
     "text": [
      "series:\n",
      "index0    0.319514\n",
      "index1   -0.305171\n",
      "index2    0.606106\n",
      "index3    1.519641\n",
      "index4   -1.117003\n",
      "index5    0.283825\n",
      "index6   -0.465226\n",
      "index7   -0.107709\n",
      "index8   -2.135473\n",
      "index9    1.015661\n",
      "dtype: float64\n",
      "s.index\n",
      "Index(['index0', 'index1', 'index2', 'index3', 'index4', 'index5', 'index6',\n",
      "       'index7', 'index8', 'index9'],\n",
      "      dtype='object')\n"
     ]
    }
   ],
   "source": [
    "# series definition\n",
    "import pandas as pd\n",
    "import numpy as np\n",
    "s = pd.Series(np.random.randn(10), index=[f'index{i}' for i in range(10)])\n",
    "print(\"series:\"); print(s)\n",
    "print(\"s.index\"); print(s.index)"
   ]
  },
  {
   "cell_type": "code",
   "execution_count": 22,
   "metadata": {},
   "outputs": [
    {
     "name": "stdout",
     "output_type": "stream",
     "text": [
      "series:\n",
      "a    2.1\n",
      "c    1.9\n",
      "b    1.0\n",
      "d   -1.0\n",
      "dtype: float64\n",
      "s.index\n",
      "Index(['a', 'c', 'b', 'd'], dtype='object')\n"
     ]
    }
   ],
   "source": [
    "# one can also initialize series from dict:\n",
    "s = pd.Series({'a': 2.1, 'c': 1.9, 'b': 1, 'd': -1})\n",
    "print(\"series:\"); print(s)\n",
    "print(\"s.index\"); print(s.index)"
   ]
  },
  {
   "cell_type": "code",
   "execution_count": 23,
   "metadata": {},
   "outputs": [
    {
     "name": "stdout",
     "output_type": "stream",
     "text": [
      "1.9 1.9\n"
     ]
    }
   ],
   "source": [
    "# indexing in series can be done with both its indices and integers\n",
    "print(s[1], s['c'])"
   ]
  },
  {
   "cell_type": "code",
   "execution_count": 24,
   "metadata": {},
   "outputs": [
    {
     "data": {
      "text/plain": [
       "(1.0, 1.45)"
      ]
     },
     "execution_count": 24,
     "metadata": {},
     "output_type": "execute_result"
    }
   ],
   "source": [
    "# also Series shares functions from numpy arrays:\n",
    "s.mean(), s.median()"
   ]
  },
  {
   "cell_type": "code",
   "execution_count": 25,
   "metadata": {},
   "outputs": [
    {
     "data": {
      "text/plain": [
       "a   -0.504846\n",
       "c   -0.323290\n",
       "b    0.540302\n",
       "d    0.540302\n",
       "dtype: float64"
      ]
     },
     "execution_count": 25,
     "metadata": {},
     "output_type": "execute_result"
    }
   ],
   "source": [
    "# ... and more functions:\n",
    "np.cos(s)"
   ]
  },
  {
   "cell_type": "code",
   "execution_count": 28,
   "metadata": {},
   "outputs": [
    {
     "data": {
      "text/plain": [
       "a    NaN\n",
       "b    2.0\n",
       "c    NaN\n",
       "d    NaN\n",
       "dtype: float64"
      ]
     },
     "execution_count": 28,
     "metadata": {},
     "output_type": "execute_result"
    }
   ],
   "source": [
    "# slicing similar to numpy arrays:\n",
    "s[:-2]"
   ]
  },
  {
   "cell_type": "code",
   "execution_count": 27,
   "metadata": {},
   "outputs": [
    {
     "data": {
      "text/plain": [
       "a    2.1\n",
       "c    1.9\n",
       "b    1.0\n",
       "dtype: float64"
      ]
     },
     "execution_count": 27,
     "metadata": {},
     "output_type": "execute_result"
    }
   ],
   "source": [
    "s[s>0.5]"
   ]
  },
  {
   "cell_type": "code",
   "execution_count": 31,
   "metadata": {},
   "outputs": [
    {
     "data": {
      "text/plain": [
       "a    3.1\n",
       "b    NaN\n",
       "c   -2.0\n",
       "d    NaN\n",
       "g    NaN\n",
       "dtype: float64"
      ]
     },
     "execution_count": 31,
     "metadata": {},
     "output_type": "execute_result"
    }
   ],
   "source": [
    "# BUT, operations are nos the same as numpy. E.g. + results in the union of the indices involved\n",
    "# NaN is assigned as the default value for indices that are not in both series \n",
    "a = pd.Series({'a': 2.1, 'b': 1, 'c': -1})\n",
    "b = pd.Series({'a': 1, 'd': 1, 'g': -1, 'c': -1})\n",
    "a + b"
   ]
  },
  {
   "cell_type": "markdown",
   "metadata": {},
   "source": [
    "#### DataFrame\n",
    "When your data is tabular with row index and column index, the go-to choice is pandas.DataFrame. DataFrame  is a 2D data structure with columns of potentially different types. Conceptually, DataFrame can be considered as a data table stored in a spreadsheet, a csv, a json file or a database. "
   ]
  },
  {
   "cell_type": "code",
   "execution_count": null,
   "metadata": {},
   "outputs": [],
   "source": []
  }
 ],
 "metadata": {
  "kernelspec": {
   "display_name": "Python 3",
   "language": "python",
   "name": "python3"
  },
  "language_info": {
   "codemirror_mode": {
    "name": "ipython",
    "version": 3
   },
   "file_extension": ".py",
   "mimetype": "text/x-python",
   "name": "python",
   "nbconvert_exporter": "python",
   "pygments_lexer": "ipython3",
   "version": "3.7.3"
  }
 },
 "nbformat": 4,
 "nbformat_minor": 4
}
