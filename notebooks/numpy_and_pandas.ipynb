{
 "cells": [
  {
   "cell_type": "markdown",
   "metadata": {},
   "source": [
    "# NumPy and pandas\n",
    "## General\n",
    "### NumPy\n",
    "NumPy is used for performing numerical computations on arrays and matrices, such as mean, median, percentiles and linear algebra computations. Simply install numpy with pip `pip3 install numpy`. \n",
    "\n",
    "### Pandas\n",
    "Pandas is used for handling tabular datasets that usually combine different types of data columns (integer, float, nominals, etc). Pandas requires NumPy. To install: `pip3 install pandas`."
   ]
  },
  {
   "cell_type": "markdown",
   "metadata": {},
   "source": [
    "## Numpy examples"
   ]
  },
  {
   "cell_type": "code",
   "execution_count": 6,
   "metadata": {},
   "outputs": [
    {
     "name": "stdout",
     "output_type": "stream",
     "text": [
      "[[0. 0. 0. 0.]\n",
      " [0. 0. 0. 0.]]\n",
      "[[1. 1. 1. 1.]\n",
      " [1. 1. 1. 1.]]\n",
      "[[1. 1. 1. 1.]\n",
      " [1. 1. 1. 1.]]\n",
      "[[-2. -2. -2. -2.]\n",
      " [-2. -2. -2. -2.]]\n",
      "(2, 4)\n"
     ]
    }
   ],
   "source": [
    "# zeros and ones. array shape\n",
    "import numpy as np\n",
    "a = np.zeros((2, 4))\n",
    "b = np.ones((2, 4))\n",
    "print(a)\n",
    "print(b)\n",
    "print(a + b)\n",
    "print(a - 2 * b)\n",
    "print(a.shape)"
   ]
  },
  {
   "cell_type": "code",
   "execution_count": 8,
   "metadata": {},
   "outputs": [
    {
     "name": "stdout",
     "output_type": "stream",
     "text": [
      "[ 3. 12.  4.]\n",
      "int64\n",
      "float64\n"
     ]
    }
   ],
   "source": [
    "# creating arrays from lists and array types\n",
    "import numpy as np\n",
    "a = np.array([1, 2, 5])\n",
    "b = np.array([2.0, 10, -1])\n",
    "print(a + b)\n",
    "print(a.dtype)\n",
    "print(b.dtype)"
   ]
  },
  {
   "cell_type": "code",
   "execution_count": 18,
   "metadata": {},
   "outputs": [
    {
     "name": "stdout",
     "output_type": "stream",
     "text": [
      "[ 0  5 10 15]\n",
      "[-10  -5   0   5]\n",
      "[  0  25 100 225]\n",
      "[10 10 10 10]\n",
      "[6.12323400e-17 7.07106781e-01 1.00000000e+00 7.07106781e-01]\n"
     ]
    }
   ],
   "source": [
    "# numpy.arange. basic operations\n",
    "import numpy as np\n",
    "a = np.arange(0, 20, 5)\n",
    "b = np.arange(0, 20, 5) - 10\n",
    "print(a)\n",
    "print(a - 10)\n",
    "print(a ** 2)\n",
    "print(a - b)\n",
    "print(np.cos(b * np.pi / 20.0))"
   ]
  },
  {
   "cell_type": "code",
   "execution_count": 19,
   "metadata": {},
   "outputs": [
    {
     "name": "stdout",
     "output_type": "stream",
     "text": [
      "[[0 2]\n",
      " [1 1]]\n",
      "[[2 2]\n",
      " [0 2]]\n"
     ]
    }
   ],
   "source": [
    "# element-wise product matrix product\n",
    "import numpy as np\n",
    "A = np.array([[0, 2], [1, 1]])\n",
    "B = np.array([[-1, 1], [1, 1]])\n",
    "print(A * B)     # element-wise\n",
    "print(A.dot(B))  # matrix product"
   ]
  },
  {
   "cell_type": "code",
   "execution_count": 20,
   "metadata": {},
   "outputs": [
    {
     "name": "stdout",
     "output_type": "stream",
     "text": [
      "[0 1 2 3 4 5 6 7 8 9]\n",
      "[[0 1 2 3 4]\n",
      " [5 6 7 8 9]]\n"
     ]
    }
   ],
   "source": [
    "# reshaping arrays\n",
    "import numpy as np\n",
    "x = np.arange(10)\n",
    "print(x)\n",
    "print(x.reshape(2, 5))"
   ]
  },
  {
   "cell_type": "code",
   "execution_count": null,
   "metadata": {},
   "outputs": [],
   "source": []
  }
 ],
 "metadata": {
  "kernelspec": {
   "display_name": "Python 3",
   "language": "python",
   "name": "python3"
  },
  "language_info": {
   "codemirror_mode": {
    "name": "ipython",
    "version": 3
   },
   "file_extension": ".py",
   "mimetype": "text/x-python",
   "name": "python",
   "nbconvert_exporter": "python",
   "pygments_lexer": "ipython3",
   "version": "3.7.3"
  }
 },
 "nbformat": 4,
 "nbformat_minor": 4
}
